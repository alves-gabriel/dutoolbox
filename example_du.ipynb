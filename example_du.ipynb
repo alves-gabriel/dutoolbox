{
 "cells": [
  {
   "cell_type": "code",
   "execution_count": 3,
   "id": "ddf4a755-a0f0-4d21-a69e-54c5cc082f34",
   "metadata": {},
   "outputs": [],
   "source": [
    "import sys\n",
    "import os\n",
    "\n",
    "# Adds the root directory in the repo to sys.path, so we can import modules as dutoolbox.sub_module...\n",
    "project_root = os.path.abspath(os.path.join(os.getcwd(), '..'))\n",
    "if project_root not in sys.path:\n",
    "    sys.path.insert(0, project_root)"
   ]
  },
  {
   "cell_type": "code",
   "execution_count": 4,
   "id": "fbc29163-7173-4739-ad41-3c736100e47a",
   "metadata": {},
   "outputs": [],
   "source": [
    "###################################\n",
    "# Custom libraries/external files #\n",
    "###################################\n",
    "\n",
    "# General dual-unitary functions\n",
    "import dutoolbox.dualunitary as du\n",
    "\n",
    "# Integrable gates\n",
    "import dutoolbox.integrable as du_int\n",
    "\n",
    "# Random matrices\n",
    "import dutoolbox.randmatrix as rmt\n",
    "\n",
    "# Miscellaneous functions\n",
    "import dutoolbox.utils as du_utils\n",
    "import dutoolbox.utils.pauli as pauli\n",
    "\n",
    "# Other libraries\n",
    "import numpy as np"
   ]
  },
  {
   "cell_type": "code",
   "execution_count": 5,
   "id": "e3440fdd-fc34-4500-8d23-0ff4f91235a9",
   "metadata": {},
   "outputs": [
    {
     "name": "stdout",
     "output_type": "stream",
     "text": [
      "[[ 0.73673588+0.j          2.00092143+0.56542795j  1.15609619+1.31124658j]\n",
      " [ 2.00092143-0.56542795j  1.11737437+0.j         -0.83305777-0.26857619j]\n",
      " [ 1.15609619-1.31124658j -0.83305777+0.26857619j -0.73304897+0.j        ]]\n",
      "[[0 1 2]\n",
      " [1 2 1]\n",
      " [2 1 2]]\n",
      "[[0.71407426 1.98304856 0.7286807 ]\n",
      " [1.98304856 1.02135355 0.77409586]\n",
      " [0.7286807  0.77409586 1.23879518]]\n"
     ]
    }
   ],
   "source": [
    "# Random GUE matrix\n",
    "print(rmt.GUE_matrix(3))\n",
    "\n",
    "# Random Bernoulli matrix\n",
    "print(rmt.bernoulli_matrix(3))\n",
    "\n",
    "# Random lognormal\n",
    "print(rmt.lognormal_matrix(3))"
   ]
  },
  {
   "cell_type": "code",
   "execution_count": 6,
   "id": "11762433-e08d-46eb-950d-b15515723d23",
   "metadata": {},
   "outputs": [
    {
     "data": {
      "text/plain": [
       "True"
      ]
     },
     "execution_count": 6,
     "metadata": {},
     "output_type": "execute_result"
    }
   ],
   "source": [
    "# Tests for dual-unitarity\n",
    "Jz = 1/np.sqrt(10)\n",
    "U = du.dual_unitary_gate_qubit(Jz)\n",
    "du_utils.is_dual_unitary_tensor(U)"
   ]
  },
  {
   "cell_type": "code",
   "execution_count": 7,
   "id": "853bf798-58e6-4855-a410-90b3043cf0d9",
   "metadata": {},
   "outputs": [
    {
     "data": {
      "text/plain": [
       "np.float64(6.297618457644295e-16)"
      ]
     },
     "execution_count": 7,
     "metadata": {},
     "output_type": "execute_result"
    }
   ],
   "source": [
    "# Checks for soliton\n",
    "U = du.dual_unitary_gate_qubit(Jz, local_perturbation=0)\n",
    "U = U.reshape(4, 4)\n",
    "\n",
    "# Left moving\n",
    "np.linalg.norm(U.conj().T @ np.kron(np.eye(2), pauli.Z) @ U - np.kron(pauli.Z, np.eye(2)))"
   ]
  },
  {
   "cell_type": "code",
   "execution_count": 8,
   "id": "c9d25075-ea4c-4a79-9a3c-8393acca8a1d",
   "metadata": {},
   "outputs": [
    {
     "name": "stdout",
     "output_type": "stream",
     "text": [
      "[[0.92387953+0.38268343j 0.        +0.j         0.        +0.j\n",
      "  0.        +0.j        ]\n",
      " [0.        +0.j         0.        +0.j         1.        +0.j\n",
      "  0.        +0.j        ]\n",
      " [0.        +0.j         1.        +0.j         0.        +0.j\n",
      "  0.        +0.j        ]\n",
      " [0.        +0.j         0.        +0.j         0.        +0.j\n",
      "  1.        +0.j        ]]\n"
     ]
    }
   ],
   "source": [
    "# Controlled phase gate\n",
    "U_int = du_int.dual_unitary_cphase(np.pi/8)\n",
    "print(U_int)"
   ]
  },
  {
   "cell_type": "code",
   "execution_count": 9,
   "id": "35c6fb50-9436-4f58-bec2-f89efb60609f",
   "metadata": {},
   "outputs": [
    {
     "data": {
      "text/plain": [
       "True"
      ]
     },
     "execution_count": 9,
     "metadata": {},
     "output_type": "execute_result"
    }
   ],
   "source": [
    "du_utils.is_dual_unitary_tensor(U_int.reshape(2, 2, 2, 2))"
   ]
  },
  {
   "cell_type": "code",
   "execution_count": 10,
   "id": "1a166ac6-249d-4ecb-bcc4-9f2f2fe1007d",
   "metadata": {},
   "outputs": [
    {
     "data": {
      "text/plain": [
       "array([2, 4, 1, 5, 3])"
      ]
     },
     "execution_count": 10,
     "metadata": {},
     "output_type": "execute_result"
    }
   ],
   "source": [
    "# Permutations\n",
    "du_int.permutator([1, 2, 3, 4, 5])"
   ]
  },
  {
   "cell_type": "code",
   "execution_count": null,
   "id": "bf6cdbca-f7cb-4baf-996c-c3b9197e08ad",
   "metadata": {},
   "outputs": [],
   "source": []
  }
 ],
 "metadata": {
  "kernelspec": {
   "display_name": "Python 3 (ipykernel)",
   "language": "python",
   "name": "python3"
  },
  "language_info": {
   "codemirror_mode": {
    "name": "ipython",
    "version": 3
   },
   "file_extension": ".py",
   "mimetype": "text/x-python",
   "name": "python",
   "nbconvert_exporter": "python",
   "pygments_lexer": "ipython3",
   "version": "3.13.1"
  },
  "scenes_data": {
   "active_scene": "Default Scene",
   "init_scene": "",
   "scenes": [
    "Default Scene"
   ]
  }
 },
 "nbformat": 4,
 "nbformat_minor": 5
}
